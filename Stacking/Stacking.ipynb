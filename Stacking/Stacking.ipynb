{
 "cells": [
  {
   "cell_type": "code",
   "execution_count": 1,
   "metadata": {},
   "outputs": [],
   "source": [
    "import numpy as np\n",
    "import pandas as pd\n",
    "import matplotlib.pyplot as plt\n",
    "import dtreeviz"
   ]
  },
  {
   "cell_type": "code",
   "execution_count": 2,
   "metadata": {},
   "outputs": [],
   "source": [
    "from sklearn.tree import DecisionTreeClassifier\n",
    "from sklearn.ensemble import RandomForestClassifier\n",
    "from sklearn.ensemble import StackingClassifier\n",
    "from sklearn.metrics import roc_auc_score"
   ]
  },
  {
   "cell_type": "code",
   "execution_count": 3,
   "metadata": {},
   "outputs": [
    {
     "name": "stderr",
     "output_type": "stream",
     "text": [
      "C:\\Users\\logihaal\\AppData\\Local\\Temp\\ipykernel_14656\\2187756855.py:11: FutureWarning: A value is trying to be set on a copy of a DataFrame or Series through chained assignment using an inplace method.\n",
      "The behavior will change in pandas 3.0. This inplace method will never work because the intermediate object on which we are setting values always behaves as a copy.\n",
      "\n",
      "For example, when doing 'df[col].method(value, inplace=True)', try using 'df.method({col: value}, inplace=True)' or df[col] = df[col].method(value) instead, to perform the operation inplace on the original object.\n",
      "\n",
      "\n",
      "C:\\Users\\logihaal\\AppData\\Local\\Temp\\ipykernel_14656\\2187756855.py:11: FutureWarning: Downcasting behavior in `replace` is deprecated and will be removed in a future version. To retain the old behavior, explicitly call `result.infer_objects(copy=False)`. To opt-in to the future behavior, set `pd.set_option('future.no_silent_downcasting', True)`\n",
      "C:\\Users\\logihaal\\AppData\\Local\\Temp\\ipykernel_14656\\2187756855.py:11: SettingWithCopyWarning: \n",
      "A value is trying to be set on a copy of a slice from a DataFrame\n",
      "\n",
      "See the caveats in the documentation: https://pandas.pydata.org/pandas-docs/stable/user_guide/indexing.html#returning-a-view-versus-a-copy\n",
      "C:\\Users\\logihaal\\AppData\\Local\\Temp\\ipykernel_14656\\2187756855.py:14: FutureWarning: Downcasting behavior in `replace` is deprecated and will be removed in a future version. To retain the old behavior, explicitly call `result.infer_objects(copy=False)`. To opt-in to the future behavior, set `pd.set_option('future.no_silent_downcasting', True)`\n",
      "C:\\Users\\logihaal\\AppData\\Local\\Temp\\ipykernel_14656\\2187756855.py:24: FutureWarning: A value is trying to be set on a copy of a DataFrame or Series through chained assignment using an inplace method.\n",
      "The behavior will change in pandas 3.0. This inplace method will never work because the intermediate object on which we are setting values always behaves as a copy.\n",
      "\n",
      "For example, when doing 'df[col].method(value, inplace=True)', try using 'df.method({col: value}, inplace=True)' or df[col] = df[col].method(value) instead, to perform the operation inplace on the original object.\n",
      "\n",
      "\n",
      "C:\\Users\\logihaal\\AppData\\Local\\Temp\\ipykernel_14656\\2187756855.py:24: FutureWarning: Downcasting behavior in `replace` is deprecated and will be removed in a future version. To retain the old behavior, explicitly call `result.infer_objects(copy=False)`. To opt-in to the future behavior, set `pd.set_option('future.no_silent_downcasting', True)`\n",
      "C:\\Users\\logihaal\\AppData\\Local\\Temp\\ipykernel_14656\\2187756855.py:24: SettingWithCopyWarning: \n",
      "A value is trying to be set on a copy of a slice from a DataFrame\n",
      "\n",
      "See the caveats in the documentation: https://pandas.pydata.org/pandas-docs/stable/user_guide/indexing.html#returning-a-view-versus-a-copy\n",
      "C:\\Users\\logihaal\\AppData\\Local\\Temp\\ipykernel_14656\\2187756855.py:27: FutureWarning: Downcasting behavior in `replace` is deprecated and will be removed in a future version. To retain the old behavior, explicitly call `result.infer_objects(copy=False)`. To opt-in to the future behavior, set `pd.set_option('future.no_silent_downcasting', True)`\n"
     ]
    },
    {
     "data": {
      "text/html": [
       "<div>\n",
       "<style scoped>\n",
       "    .dataframe tbody tr th:only-of-type {\n",
       "        vertical-align: middle;\n",
       "    }\n",
       "\n",
       "    .dataframe tbody tr th {\n",
       "        vertical-align: top;\n",
       "    }\n",
       "\n",
       "    .dataframe thead th {\n",
       "        text-align: right;\n",
       "    }\n",
       "</style>\n",
       "<table border=\"1\" class=\"dataframe\">\n",
       "  <thead>\n",
       "    <tr style=\"text-align: right;\">\n",
       "      <th></th>\n",
       "      <th>Pclass</th>\n",
       "      <th>Sex</th>\n",
       "      <th>Age</th>\n",
       "      <th>FamilySize</th>\n",
       "      <th>Fare</th>\n",
       "      <th>C</th>\n",
       "      <th>Q</th>\n",
       "      <th>S</th>\n",
       "    </tr>\n",
       "  </thead>\n",
       "  <tbody>\n",
       "    <tr>\n",
       "      <th>0</th>\n",
       "      <td>0.872436</td>\n",
       "      <td>-0.755024</td>\n",
       "      <td>0.334592</td>\n",
       "      <td>-0.552780</td>\n",
       "      <td>-0.497811</td>\n",
       "      <td>-0.567462</td>\n",
       "      <td>2.840354</td>\n",
       "      <td>-1.349059</td>\n",
       "    </tr>\n",
       "    <tr>\n",
       "      <th>1</th>\n",
       "      <td>0.872436</td>\n",
       "      <td>1.321292</td>\n",
       "      <td>1.323944</td>\n",
       "      <td>0.105516</td>\n",
       "      <td>-0.512660</td>\n",
       "      <td>-0.567462</td>\n",
       "      <td>-0.351227</td>\n",
       "      <td>0.739484</td>\n",
       "    </tr>\n",
       "    <tr>\n",
       "      <th>2</th>\n",
       "      <td>-0.315441</td>\n",
       "      <td>-0.755024</td>\n",
       "      <td>2.511166</td>\n",
       "      <td>-0.552780</td>\n",
       "      <td>-0.464532</td>\n",
       "      <td>-0.567462</td>\n",
       "      <td>2.840354</td>\n",
       "      <td>-1.349059</td>\n",
       "    </tr>\n",
       "    <tr>\n",
       "      <th>3</th>\n",
       "      <td>0.872436</td>\n",
       "      <td>-0.755024</td>\n",
       "      <td>-0.259019</td>\n",
       "      <td>-0.552780</td>\n",
       "      <td>-0.482888</td>\n",
       "      <td>-0.567462</td>\n",
       "      <td>-0.351227</td>\n",
       "      <td>0.739484</td>\n",
       "    </tr>\n",
       "    <tr>\n",
       "      <th>4</th>\n",
       "      <td>0.872436</td>\n",
       "      <td>1.321292</td>\n",
       "      <td>-0.654760</td>\n",
       "      <td>0.763813</td>\n",
       "      <td>-0.417971</td>\n",
       "      <td>-0.567462</td>\n",
       "      <td>-0.351227</td>\n",
       "      <td>0.739484</td>\n",
       "    </tr>\n",
       "    <tr>\n",
       "      <th>...</th>\n",
       "      <td>...</td>\n",
       "      <td>...</td>\n",
       "      <td>...</td>\n",
       "      <td>...</td>\n",
       "      <td>...</td>\n",
       "      <td>...</td>\n",
       "      <td>...</td>\n",
       "      <td>...</td>\n",
       "    </tr>\n",
       "    <tr>\n",
       "      <th>413</th>\n",
       "      <td>0.872436</td>\n",
       "      <td>-0.755024</td>\n",
       "      <td>0.000000</td>\n",
       "      <td>-0.552780</td>\n",
       "      <td>-0.493856</td>\n",
       "      <td>-0.567462</td>\n",
       "      <td>-0.351227</td>\n",
       "      <td>0.739484</td>\n",
       "    </tr>\n",
       "    <tr>\n",
       "      <th>414</th>\n",
       "      <td>-1.503319</td>\n",
       "      <td>1.321292</td>\n",
       "      <td>0.690758</td>\n",
       "      <td>-0.552780</td>\n",
       "      <td>1.312180</td>\n",
       "      <td>1.758018</td>\n",
       "      <td>-0.351227</td>\n",
       "      <td>-1.349059</td>\n",
       "    </tr>\n",
       "    <tr>\n",
       "      <th>415</th>\n",
       "      <td>0.872436</td>\n",
       "      <td>-0.755024</td>\n",
       "      <td>0.651184</td>\n",
       "      <td>-0.552780</td>\n",
       "      <td>-0.508183</td>\n",
       "      <td>-0.567462</td>\n",
       "      <td>-0.351227</td>\n",
       "      <td>0.739484</td>\n",
       "    </tr>\n",
       "    <tr>\n",
       "      <th>416</th>\n",
       "      <td>0.872436</td>\n",
       "      <td>-0.755024</td>\n",
       "      <td>0.000000</td>\n",
       "      <td>-0.552780</td>\n",
       "      <td>-0.493856</td>\n",
       "      <td>-0.567462</td>\n",
       "      <td>-0.351227</td>\n",
       "      <td>0.739484</td>\n",
       "    </tr>\n",
       "    <tr>\n",
       "      <th>417</th>\n",
       "      <td>0.872436</td>\n",
       "      <td>-0.755024</td>\n",
       "      <td>0.000000</td>\n",
       "      <td>0.763813</td>\n",
       "      <td>-0.237621</td>\n",
       "      <td>1.758018</td>\n",
       "      <td>-0.351227</td>\n",
       "      <td>-1.349059</td>\n",
       "    </tr>\n",
       "  </tbody>\n",
       "</table>\n",
       "<p>418 rows × 8 columns</p>\n",
       "</div>"
      ],
      "text/plain": [
       "       Pclass       Sex       Age  FamilySize      Fare         C         Q  \\\n",
       "0    0.872436 -0.755024  0.334592   -0.552780 -0.497811 -0.567462  2.840354   \n",
       "1    0.872436  1.321292  1.323944    0.105516 -0.512660 -0.567462 -0.351227   \n",
       "2   -0.315441 -0.755024  2.511166   -0.552780 -0.464532 -0.567462  2.840354   \n",
       "3    0.872436 -0.755024 -0.259019   -0.552780 -0.482888 -0.567462 -0.351227   \n",
       "4    0.872436  1.321292 -0.654760    0.763813 -0.417971 -0.567462 -0.351227   \n",
       "..        ...       ...       ...         ...       ...       ...       ...   \n",
       "413  0.872436 -0.755024  0.000000   -0.552780 -0.493856 -0.567462 -0.351227   \n",
       "414 -1.503319  1.321292  0.690758   -0.552780  1.312180  1.758018 -0.351227   \n",
       "415  0.872436 -0.755024  0.651184   -0.552780 -0.508183 -0.567462 -0.351227   \n",
       "416  0.872436 -0.755024  0.000000   -0.552780 -0.493856 -0.567462 -0.351227   \n",
       "417  0.872436 -0.755024  0.000000    0.763813 -0.237621  1.758018 -0.351227   \n",
       "\n",
       "            S  \n",
       "0   -1.349059  \n",
       "1    0.739484  \n",
       "2   -1.349059  \n",
       "3    0.739484  \n",
       "4    0.739484  \n",
       "..        ...  \n",
       "413  0.739484  \n",
       "414 -1.349059  \n",
       "415  0.739484  \n",
       "416  0.739484  \n",
       "417 -1.349059  \n",
       "\n",
       "[418 rows x 8 columns]"
      ]
     },
     "execution_count": 3,
     "metadata": {},
     "output_type": "execute_result"
    }
   ],
   "source": [
    "#データ読み込み\n",
    "train = pd.read_csv(\"../dataset/train.csv\")\n",
    "test = pd.read_csv(\"../dataset/test.csv\")\n",
    "gender_submission = pd.read_csv(\"../dataset/gender_submission.csv\")\n",
    "\n",
    "#特徴量エンジニアリング\n",
    "#train\n",
    "t_train = train[\"Survived\"]\n",
    "train[\"FamilySize\"] = train[\"SibSp\"] + train[\"Parch\"] \n",
    "x_train = train[[\"Pclass\",\"Sex\",\"Age\",\"FamilySize\",\"Fare\",\"Embarked\"]]\n",
    "x_train[\"Sex\"].replace([\"male\",\"female\"],[0,1],inplace=True)\n",
    "# Embarkedをonehot変換\n",
    "Embarked = pd.get_dummies(x_train[\"Embarked\"])\n",
    "Embarked.replace([False,True],[0,1],inplace=True)\n",
    "x_train = x_train.drop(columns=['Embarked'])\n",
    "x_train = pd.concat([x_train,Embarked],axis = 1)\n",
    "x_train.fillna(x_train.mean(), inplace=True)\n",
    "#正規化\n",
    "x_train = (x_train - x_train.mean()) / x_train.std()\n",
    "x_train\n",
    "#test\n",
    "test[\"FamilySize\"] = test[\"SibSp\"] + test[\"Parch\"] \n",
    "x_test = test[[\"Pclass\",\"Sex\",\"Age\",\"FamilySize\",\"Fare\",\"Embarked\"]]\n",
    "x_test[\"Sex\"].replace([\"male\",\"female\"],[0,1],inplace=True)\n",
    "# Embarkedをonehot変換\n",
    "Embarked = pd.get_dummies(x_test[\"Embarked\"])\n",
    "Embarked.replace([False,True],[0,1],inplace=True)\n",
    "x_test = x_test.drop(columns=['Embarked'])\n",
    "x_test = pd.concat([x_test,Embarked],axis = 1)\n",
    "x_test.fillna(x_test.mean(), inplace=True)\n",
    "#正規化\n",
    "x_test = (x_test - x_test.mean()) / x_test.std()\n",
    "x_test"
   ]
  },
  {
   "cell_type": "code",
   "execution_count": 4,
   "metadata": {},
   "outputs": [
    {
     "name": "stdout",
     "output_type": "stream",
     "text": [
      "ROC-AUC = 0.8244655354232576\n"
     ]
    }
   ],
   "source": [
    "model = RandomForestClassifier(n_estimators=50, max_depth=5, random_state=777)\n",
    "model.fit(x_train, t_train)\n",
    "t_pred = model.predict(x_train)\n",
    "rf_score = roc_auc_score(t_train, t_pred)\n",
    "print(f\"ROC-AUC = {rf_score}\")"
   ]
  },
  {
   "cell_type": "code",
   "execution_count": 5,
   "metadata": {},
   "outputs": [
    {
     "name": "stdout",
     "output_type": "stream",
     "text": [
      "ROC-AUC\n",
      "決定木のスタッキング＝0.8323506854568115, ランダムフォレスト＝0.8244655354232576\n"
     ]
    }
   ],
   "source": [
    "# スタッキング前段に使用するモデル\n",
    "estimators = [\n",
    "    (\"dt1\", DecisionTreeClassifier(max_depth=3, random_state=777)),\n",
    "    (\"dt2\", DecisionTreeClassifier(max_depth=4, random_state=777)),\n",
    "    (\"dt3\", DecisionTreeClassifier(max_depth=5, random_state=777)),\n",
    "    (\"dt4\", DecisionTreeClassifier(max_depth=6, random_state=777)),\n",
    "]\n",
    "# スタッキングに含まれるモデル数\n",
    "n_estimators = len(estimators)\n",
    "# スタッキング後段に使用するモデル\n",
    "final_estimator = DecisionTreeClassifier(max_depth=3, random_state=777)\n",
    "# スタッキングモデルを作成し訓練する\n",
    "clf = StackingClassifier(estimators=estimators, final_estimator=final_estimator)\n",
    "clf.fit(x_train, t_train)\n",
    "# テストデータで評価する\n",
    "t_pred = clf.predict(x_train)\n",
    "clf_score = roc_auc_score(t_train, t_pred)\n",
    "\n",
    "print(\"ROC-AUC\")\n",
    "print(f\"決定木のスタッキング＝{clf_score}, ランダムフォレスト＝{rf_score}\")"
   ]
  },
  {
   "cell_type": "code",
   "execution_count": 6,
   "metadata": {},
   "outputs": [
    {
     "data": {
      "image/png": "[encoded data removed]",
      "text/plain": [
       "<Figure size 600x300 with 1 Axes>"
      ]
     },
     "metadata": {},
     "output_type": "display_data"
    }
   ],
   "source": [
    "plt.figure(figsize=(6, 3))\n",
    "plot_index = [i for i in range(n_estimators)]\n",
    "plt.bar(plot_index, clf.final_estimator_.feature_importances_)\n",
    "plt.xticks(plot_index, [e[0] for e in estimators])\n",
    "plt.xlabel(\"model name\")\n",
    "plt.ylabel(\"feature-importance\")\n",
    "plt.show()"
   ]
  },
  {
   "cell_type": "code",
   "execution_count": 15,
   "metadata": {},
   "outputs": [
    {
     "name": "stdout",
     "output_type": "stream",
     "text": [
      "====\n",
      "DecisionTreeClassifier(max_depth=3, random_state=777)\n",
      "0.8057233247052056\n",
      "====\n",
      "KNeighborsClassifier()\n",
      "0.8471862716901543\n",
      "====\n",
      "DecisionTreeClassifier(max_depth=5, random_state=777)\n",
      "0.8205109768957914\n",
      "====\n",
      "LinearSVC(max_iter=500)\n",
      "0.7811091937494007\n",
      "====\n",
      "LinearSVC(max_iter=500)\n",
      "0.7811091937494007\n"
     ]
    },
    {
     "data": {
      "image/png": "[encoded data removed]",
      "text/plain": [
       "<Figure size 800x400 with 1 Axes>"
      ]
     },
     "metadata": {},
     "output_type": "display_data"
    }
   ],
   "source": [
    "# スタッキング前段の木の精度を計測する\n",
    "scores = []\n",
    "for clf_estim in clf.estimators_:\n",
    "    print(\"====\")\n",
    "    t_pred = clf_estim.predict(x_train)\n",
    "    scr = roc_auc_score(t_train, t_pred)\n",
    "    scores.append(scr)\n",
    "    print(clf_estim)\n",
    "    print(scr)\n",
    "\n",
    "n_estimators = len(estimators)\n",
    "plot_index = [i for i in range(n_estimators)]\n",
    "\n",
    "# グラフ作成\n",
    "plt.figure(figsize=(8, 4))\n",
    "plt.bar(plot_index, scores)\n",
    "plt.xticks(plot_index, [e[0] for e in estimators])\n",
    "plt.xlabel(\"model name\")\n",
    "plt.ylabel(\"roc-auc\")\n",
    "plt.show()\n"
   ]
  },
  {
   "cell_type": "code",
   "execution_count": 13,
   "metadata": {},
   "outputs": [
    {
     "name": "stdout",
     "output_type": "stream",
     "text": [
      "ROC-AUC\n",
      "決定木のスタッキング＝0.8496548748921484, ランダムフォレスト＝0.8244655354232576\n"
     ]
    }
   ],
   "source": [
    "#複数の木でスタッキングしてみる\n",
    "from sklearn.neighbors import KNeighborsClassifier\n",
    "from sklearn.svm import LinearSVC\n",
    "#スタッキング前段に使用するモデル\n",
    "estimators = [\n",
    "    (\"dt1\", DecisionTreeClassifier(max_depth=3, random_state=777)),\n",
    "    (\"knn\", KNeighborsClassifier()),\n",
    "    (\"dt3\", DecisionTreeClassifier(max_depth=5, random_state=777)),\n",
    "    (\"SVC1\", LinearSVC(max_iter=500)),\n",
    "    (\"SVC2\", LinearSVC(max_iter=500)),\n",
    "    \n",
    "]\n",
    "# スタッキングに含まれるモデル数\n",
    "n_estimators = len(estimators)\n",
    "# スタッキング後段に使用するモデル\n",
    "final_estimator = DecisionTreeClassifier(max_depth=3, random_state=777)\n",
    "# スタッキングモデルを作成し訓練する\n",
    "clf = StackingClassifier(estimators=estimators, final_estimator=final_estimator)\n",
    "clf.fit(x_train, t_train)\n",
    "# テストデータで評価する\n",
    "t_pred = clf.predict(x_train)\n",
    "clf_score = roc_auc_score(t_train, t_pred)\n",
    "\n",
    "print(\"ROC-AUC\")\n",
    "print(f\"決定木のスタッキング＝{clf_score}, ランダムフォレスト＝{rf_score}\")"
   ]
  },
  {
   "cell_type": "code",
   "execution_count": 14,
   "metadata": {},
   "outputs": [
    {
     "data": {
      "image/png": "[encoded data removed]",
      "text/plain": [
       "<Figure size 600x300 with 1 Axes>"
      ]
     },
     "metadata": {},
     "output_type": "display_data"
    }
   ],
   "source": [
    "plt.figure(figsize=(6, 3))\n",
    "plot_index = [i for i in range(n_estimators)]\n",
    "plt.bar(plot_index, clf.final_estimator_.feature_importances_)\n",
    "plt.xticks(plot_index, [e[0] for e in estimators])\n",
    "plt.xlabel(\"model name\")\n",
    "plt.ylabel(\"feature-importance\")\n",
    "plt.show()"
   ]
  },
  {
   "cell_type": "code",
   "execution_count": 16,
   "metadata": {},
   "outputs": [
    {
     "name": "stdout",
     "output_type": "stream",
     "text": [
      "====\n",
      "DecisionTreeClassifier(max_depth=3, random_state=777)\n",
      "0.8057233247052056\n",
      "====\n",
      "KNeighborsClassifier()\n",
      "0.8471862716901543\n",
      "====\n",
      "DecisionTreeClassifier(max_depth=5, random_state=777)\n",
      "0.8205109768957914\n",
      "====\n",
      "LinearSVC(max_iter=500)\n",
      "0.7811091937494007\n",
      "====\n",
      "LinearSVC(max_iter=500)\n",
      "0.7811091937494007\n"
     ]
    },
    {
     "data": {
      "image/png": "[encoded data removed]",
      "text/plain": [
       "<Figure size 800x400 with 1 Axes>"
      ]
     },
     "metadata": {},
     "output_type": "display_data"
    }
   ],
   "source": [
    "# スタッキング前段の木の精度を計測する\n",
    "scores = []\n",
    "for clf_estim in clf.estimators_:\n",
    "    print(\"====\")\n",
    "    t_pred = clf_estim.predict(x_train)\n",
    "    scr = roc_auc_score(t_train, t_pred)\n",
    "    scores.append(scr)\n",
    "    print(clf_estim)\n",
    "    print(scr)\n",
    "\n",
    "n_estimators = len(estimators)\n",
    "plot_index = [i for i in range(n_estimators)]\n",
    "\n",
    "# グラフ作成\n",
    "plt.figure(figsize=(8, 4))\n",
    "plt.bar(plot_index, scores)\n",
    "plt.xticks(plot_index, [e[0] for e in estimators])\n",
    "plt.xlabel(\"model name\")\n",
    "plt.ylabel(\"roc-auc\")\n",
    "plt.show()\n"
   ]
  },
  {
   "cell_type": "code",
   "execution_count": 17,
   "metadata": {},
   "outputs": [],
   "source": [
    "t_test = clf.predict(x_test)"
   ]
  },
  {
   "cell_type": "code",
   "execution_count": 19,
   "metadata": {},
   "outputs": [],
   "source": [
    "x_test[\"Survived\"] = t_test\n",
    "t_output = x_test[\"Survived\"]\n",
    "t_output.index = t_output.index + 892\n",
    "t_output.index.rename('PassengerId', inplace=True)\n",
    "# DataFrameをCSVに出力\n",
    "t_output.to_csv(\"output_Stacking.csv\")"
   ]
  }
 ],
 "metadata": {
  "kernelspec": {
   "display_name": "Python 3",
   "language": "python",
   "name": "python3"
  },
  "language_info": {
   "codemirror_mode": {
    "name": "ipython",
    "version": 3
   },
   "file_extension": ".py",
   "mimetype": "text/x-python",
   "name": "python",
   "nbconvert_exporter": "python",
   "pygments_lexer": "ipython3",
   "version": "3.11.9"
  }
 },
 "nbformat": 4,
 "nbformat_minor": 2
}
